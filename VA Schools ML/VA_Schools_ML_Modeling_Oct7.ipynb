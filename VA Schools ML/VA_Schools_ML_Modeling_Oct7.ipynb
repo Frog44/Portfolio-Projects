{
  "nbformat": 4,
  "nbformat_minor": 0,
  "metadata": {
    "colab": {
      "provenance": [],
      "include_colab_link": true
    },
    "kernelspec": {
      "name": "python3",
      "display_name": "Python 3"
    },
    "language_info": {
      "name": "python"
    }
  },
  "cells": [
    {
      "cell_type": "markdown",
      "metadata": {
        "id": "view-in-github",
        "colab_type": "text"
      },
      "source": [
        "<a href=\"https://colab.research.google.com/github/Frog44/Portfolio-Projects/blob/main/VA%20Schools%20ML/VA_Schools_ML_Modeling_Oct7.ipynb\" target=\"_parent\"><img src=\"https://colab.research.google.com/assets/colab-badge.svg\" alt=\"Open In Colab\"/></a>"
      ]
    },
    {
      "cell_type": "code",
      "source": [
        "# Assigning the data url\n",
        "data_url = 'https://raw.githubusercontent.com/nvamsimohan/DallasDSA/main/Virginia%20Schools%202021.csv'\n",
        "data_url"
      ],
      "metadata": {
        "id": "7RiocRLmKwnw"
      },
      "execution_count": null,
      "outputs": []
    },
    {
      "cell_type": "code",
      "source": [
        "# Importing pandas package for data processing\n",
        "import pandas"
      ],
      "metadata": {
        "id": "THfW2ZhTLYXG"
      },
      "execution_count": 2,
      "outputs": []
    },
    {
      "cell_type": "code",
      "source": [
        "# Reading the data from the web URL\n",
        "data = pandas.read_csv(data_url)\n",
        "\n",
        "# Displaying the data\n",
        "data"
      ],
      "metadata": {
        "id": "nrje9WjmNaV9"
      },
      "execution_count": null,
      "outputs": []
    },
    {
      "cell_type": "code",
      "source": [
        "# Displaying the dataset size/shape\n",
        "data.shape"
      ],
      "metadata": {
        "id": "lQ86vue4SAC6",
        "colab": {
          "base_uri": "https://localhost:8080/"
        },
        "outputId": "4c3fe801-4e7c-49dd-e3f8-f760ef27b04c"
      },
      "execution_count": 4,
      "outputs": [
        {
          "output_type": "execute_result",
          "data": {
            "text/plain": [
              "(327, 27)"
            ]
          },
          "metadata": {},
          "execution_count": 4
        }
      ]
    },
    {
      "cell_type": "code",
      "source": [
        "# Displaying the column names\n",
        "data.columns"
      ],
      "metadata": {
        "id": "yf8no1IdTEfK"
      },
      "execution_count": null,
      "outputs": []
    },
    {
      "cell_type": "code",
      "source": [
        "# Setting the noise/redundant/missing data variables\n",
        "ignored_cols  = ['School', 'School URL', 'District URL', 'City URL',\n",
        "       'Phone','Home Prices Ranking', 'Community Health Ranking']"
      ],
      "metadata": {
        "id": "1mMQhYqtxVX1"
      },
      "execution_count": 6,
      "outputs": []
    },
    {
      "cell_type": "code",
      "source": [
        "# Setting categorical cols\n",
        "cat_cols = ['District',  'City',\n",
        "       'Zip', 'County', 'Is Title I', 'Is Charter', 'Is Magnet',\n",
        "       'Is Virtual']"
      ],
      "metadata": {
        "id": "b788Z083yXtz"
      },
      "execution_count": 7,
      "outputs": []
    },
    {
      "cell_type": "code",
      "source": [
        "# Setting the numerical cols\n",
        "num_cols = ['Number Students', 'Number Full-time Teachers',\n",
        "            'Student/Teacher Ratio', 'Percent Free/Disc Lunch',\n",
        "            'Percent African American', 'Percent American Indian',\n",
        "            'Percent Asian', 'Percent Hispanic', 'Percent Pacific Islander',\n",
        "            'Percent Two or More Races', 'Percent White']"
      ],
      "metadata": {
        "id": "vXe9b42_y42N"
      },
      "execution_count": 8,
      "outputs": []
    },
    {
      "cell_type": "code",
      "source": [
        "# Setting the dependent/target/label variable\n",
        "y = 'Standard Score'"
      ],
      "metadata": {
        "id": "GTMHOTGezeuk"
      },
      "execution_count": 9,
      "outputs": []
    },
    {
      "cell_type": "code",
      "source": [
        "# Installing Pycaret for Automated ML\n",
        "!pip install -U --pre pycaret"
      ],
      "metadata": {
        "id": "kJB6UiF52Pz8"
      },
      "execution_count": null,
      "outputs": []
    },
    {
      "cell_type": "code",
      "source": [
        "# Importing Pycaret and setting/configuring the ML experiment\n",
        "from pycaret.regression import *\n",
        "\n",
        "regression_model_setup = setup(data, target = y, categorical_features = cat_cols, numeric_features = num_cols, ignore_features = ignored_cols)\n"
      ],
      "metadata": {
        "id": "-0JQijiR3dZ4"
      },
      "execution_count": null,
      "outputs": []
    },
    {
      "cell_type": "code",
      "source": [
        "# Invoking ML algorithms\n",
        "compare_models()"
      ],
      "metadata": {
        "id": "5i6TpAZ3483K"
      },
      "execution_count": null,
      "outputs": []
    },
    {
      "cell_type": "code",
      "source": [
        "model = create_model('lightgbm')"
      ],
      "metadata": {
        "id": "-wRp2DcVJ-Na"
      },
      "execution_count": null,
      "outputs": []
    },
    {
      "cell_type": "code",
      "source": [
        "# Importing the client dataset\n",
        "client_data = pandas.read_csv('https://raw.githubusercontent.com/nvamsimohan/DallasDSA/main/Virginia%20Schools%202021.csv')\n",
        "client_data.shape"
      ],
      "metadata": {
        "id": "rQ4rQUDVL0-a"
      },
      "execution_count": null,
      "outputs": []
    },
    {
      "cell_type": "code",
      "source": [
        "# Predicting standard scores using the best model\n",
        "client_data_predictions = predict_model(model,client_data)"
      ],
      "metadata": {
        "id": "hiL8hxfUMVYi"
      },
      "execution_count": null,
      "outputs": []
    },
    {
      "cell_type": "code",
      "source": [
        "client_data_predictions"
      ],
      "metadata": {
        "id": "oKUdj3KmMjK0"
      },
      "execution_count": null,
      "outputs": []
    },
    {
      "cell_type": "code",
      "source": [
        "client_data_predictions.to_csv(\"VA Schools - ML Algo.csv\")"
      ],
      "metadata": {
        "id": "IszarIdWOuFV"
      },
      "execution_count": 17,
      "outputs": []
    }
  ]
}