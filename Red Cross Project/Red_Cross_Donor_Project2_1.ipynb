{
  "cells": [
    {
      "cell_type": "code",
      "execution_count": null,
      "metadata": {
        "id": "_uEoURYzXB6T"
      },
      "outputs": [],
      "source": [
        "# assign data URL\n",
        "data_url = 'https://docs.google.com/spreadsheets/d/e/2PACX-1vQzBYWDif8AqH47QpdaMsxZ0d3aXafgvL6EfnsUk6iN5QPCgrhvEky7hzI16iyfL3L2rfec3QX32JQj/pub?gid=0&single=true&output=csv'\n",
        "data_url"
      ]
    },
    {
      "cell_type": "code",
      "execution_count": 27,
      "metadata": {
        "id": "hHDLUX-nXYeO"
      },
      "outputs": [],
      "source": [
        "import pandas\n",
        "import numpy as np"
      ]
    },
    {
      "cell_type": "code",
      "execution_count": null,
      "metadata": {
        "id": "el_2a6pOXcUf"
      },
      "outputs": [],
      "source": [
        "data = pandas.read_csv(data_url)\n",
        "\n",
        "# Function to convert values with $ to integers\n",
        "def convert_currency_to_int(value):\n",
        "    if isinstance(value, str) and '$' in value:\n",
        "        cleaned_value = value.replace(\"$\",\"\").replace(\",\",\"\").strip()\n",
        "        try:\n",
        "            return int(cleaned_value)\n",
        "        except ValueError:\n",
        "            return value  # Handle the case where the value can't be converted to an integer\n",
        "    else:\n",
        "        return value\n",
        "\n",
        "# Apply the conversion function to all elements in the DataFrame\n",
        "data = data.applymap(convert_currency_to_int)\n",
        "\n",
        "#display data\n",
        "data\n",
        "\n",
        "#display column names\n",
        "data.columns\n",
        "\n",
        "#list data types\n",
        "data.info()\n",
        "\n",
        "#generate descriptive stats for data\n",
        "data.describe()"
      ]
    },
    {
      "cell_type": "code",
      "execution_count": 29,
      "metadata": {
        "id": "MK8A2Dji3YY7"
      },
      "outputs": [],
      "source": [
        "# Setting the noise/redundant/missing data variables\n",
        "ignored_cols  = ['DonorUniqueId', 'PreferredAddressType', 'DonorPostalCode', 'DonorDateOfBirth', 'CumulativeDonationAmount']"
      ]
    },
    {
      "cell_type": "code",
      "execution_count": 30,
      "metadata": {
        "id": "KVUpN6Kz3Ye7"
      },
      "outputs": [],
      "source": [
        "# Setting categorical cols\n",
        "cat_cols = ['GenderIdentity', 'IsMemberFlag', 'IsAlumnusFlag', 'IsParentFlag', 'HasInvolvementFlag', 'HasEmailFlag', 'MaritalStatus', 'WealthRating', 'AcademicDegreeLevel']"
      ]
    },
    {
      "cell_type": "code",
      "execution_count": 31,
      "metadata": {
        "id": "LLJwjy0u3Yhr"
      },
      "outputs": [],
      "source": [
        "## Setting the numerical cols\n",
        "num_cols = ['DonorAge', 'ConsecutiveDonorYears',\n",
        "       'LastFiscalYearDonation', 'Donation2FiscalYearsAgo', 'Donation3FiscalYearsAgo',\n",
        "       'Donation4FiscalYearsAgo', 'Donation5FiscalYearsAgo', 'CurrentFiscalYearDonation']"
      ]
    },
    {
      "cell_type": "code",
      "execution_count": 38,
      "metadata": {
        "id": "lqStrptP3YkT"
      },
      "outputs": [],
      "source": [
        "# Setting the dependent/target/label variable\n",
        "y = 'DonorIndicatorFlag.'"
      ]
    },
    {
      "cell_type": "code",
      "execution_count": null,
      "metadata": {
        "id": "HA2WuG513YnX"
      },
      "outputs": [],
      "source": [
        "# Installing Pycaret for Automated ML\n",
        "!pip install -U --pre pycaret"
      ]
    },
    {
      "cell_type": "code",
      "source": [
        "# Installing sweetviz package for visualization and statistical analysis\n",
        "!pip install sweetviz"
      ],
      "metadata": {
        "id": "m59AxiZwXqIw"
      },
      "execution_count": null,
      "outputs": []
    },
    {
      "cell_type": "code",
      "source": [
        "# Importing the package\n",
        "import sweetviz as sv"
      ],
      "metadata": {
        "id": "gDbzXwOuXW9X"
      },
      "execution_count": 13,
      "outputs": []
    },
    {
      "cell_type": "code",
      "source": [
        "# Creating a variables with predictor columns\n",
        "pred_cols  = ['DonorAge', 'ConsecutiveDonorYears',\n",
        "       'LastFiscalYearDonation', 'Donation2FiscalYearsAgo', 'Donation3FiscalYearsAgo',\n",
        "       'Donation4FiscalYearsAgo', 'Donation5FiscalYearsAgo', 'CurrentFiscalYearDonation',\n",
        "       'GenderIdentity', 'IsMemberFlag', 'IsAlumnusFlag', 'IsParentFlag', 'HasInvolvementFlag',\n",
        "       'HasEmailFlag', 'MaritalStatus', 'WealthRating', 'AcademicDegreeLevel', 'DonorIndicatorFlag.',\n",
        "       'CumulativeDonationAmount']"
      ],
      "metadata": {
        "id": "cfXf6q1EYfln"
      },
      "execution_count": 14,
      "outputs": []
    },
    {
      "cell_type": "code",
      "source": [
        "# Generating a dataset with only predictor columns\n",
        "pred_data = data[pred_cols]\n",
        "\n",
        "# Displaying the predictors dataset\n",
        "pred_data"
      ],
      "metadata": {
        "id": "P-gq46l8Xbqn"
      },
      "execution_count": null,
      "outputs": []
    },
    {
      "cell_type": "code",
      "source": [
        "# Generating EDA report using sweetviz\n",
        "sv_report = sv.analyze(pred_data)"
      ],
      "metadata": {
        "id": "VMVjNtWPXbxK"
      },
      "execution_count": null,
      "outputs": []
    },
    {
      "cell_type": "code",
      "source": [
        "# Generate a html formatted report\n",
        "sv_report.show_html(\"Red Cross Report.html\")"
      ],
      "metadata": {
        "id": "WoJSnpfsXb4i"
      },
      "execution_count": null,
      "outputs": []
    },
    {
      "cell_type": "code",
      "source": [
        "# Installing dataprep package for data profiling\n",
        "!pip install dataprep\n",
        "\n",
        "# Importing dataprep package for data profiling\n",
        "from dataprep.eda import create_report\n",
        "\n",
        "# Generating the data profiling report\n",
        "create_report(data).save()"
      ],
      "metadata": {
        "id": "fgA818RVb28v"
      },
      "execution_count": null,
      "outputs": []
    },
    {
      "cell_type": "code",
      "execution_count": null,
      "metadata": {
        "id": "u7-j_yCU3Yp5"
      },
      "outputs": [],
      "source": [
        "# Importing the pycaret and setting the experiment\n",
        "from pycaret.classification import *\n",
        "\n",
        "classification_model_setup = setup(data,\n",
        "                                   target  = y,\n",
        "                                   ignore_features=ignored_cols,\n",
        "                                   numeric_features=num_cols,\n",
        "                                   categorical_features=cat_cols,\n",
        "                                   train_size = 0.7)"
      ]
    },
    {
      "cell_type": "code",
      "execution_count": 39,
      "metadata": {
        "id": "iZcu4aDF3mDc",
        "colab": {
          "base_uri": "https://localhost:8080/",
          "height": 717,
          "referenced_widgets": [
            "82c738f725b441419b94579e374a8640",
            "8dd1a45e91fc4b25ba539be8a493a64b",
            "d96f3db244104a66b1f0034239d1c9e3",
            "0603b15a250948559f02aecf0d4d4e38",
            "82173cbef1404b9981c0aba85534c3d8",
            "2d859f6fce3747848d7676b89fb18fb5",
            "d073474e34584ae3a0771aae2a933502",
            "116c845628784c9f9d1b90aa16adea8b",
            "59af19096a794b2ebd92f8f2ab3e3dc2",
            "6d6db7a971c54e5d8ee32d5b9ce5fa24",
            "317fa9fac0644f7ab731676aa2e2635f"
          ]
        },
        "outputId": "4df046c6-6e3f-4da3-ba3b-184c5cbaa21c"
      },
      "outputs": [
        {
          "output_type": "display_data",
          "data": {
            "text/plain": [
              "<IPython.core.display.HTML object>"
            ],
            "text/html": []
          },
          "metadata": {}
        },
        {
          "output_type": "display_data",
          "data": {
            "text/plain": [
              "<pandas.io.formats.style.Styler at 0x79c71cfbc160>"
            ],
            "text/html": [
              "<style type=\"text/css\">\n",
              "#T_3ca12 th {\n",
              "  text-align: left;\n",
              "}\n",
              "#T_3ca12_row0_col0, #T_3ca12_row0_col2, #T_3ca12_row0_col4, #T_3ca12_row1_col0, #T_3ca12_row1_col1, #T_3ca12_row1_col2, #T_3ca12_row1_col3, #T_3ca12_row1_col4, #T_3ca12_row1_col5, #T_3ca12_row1_col6, #T_3ca12_row1_col7, #T_3ca12_row2_col0, #T_3ca12_row2_col1, #T_3ca12_row2_col3, #T_3ca12_row2_col4, #T_3ca12_row2_col5, #T_3ca12_row2_col6, #T_3ca12_row2_col7, #T_3ca12_row3_col0, #T_3ca12_row3_col1, #T_3ca12_row3_col2, #T_3ca12_row3_col3, #T_3ca12_row3_col4, #T_3ca12_row3_col5, #T_3ca12_row3_col6, #T_3ca12_row3_col7, #T_3ca12_row4_col0, #T_3ca12_row4_col1, #T_3ca12_row4_col2, #T_3ca12_row4_col3, #T_3ca12_row4_col4, #T_3ca12_row4_col5, #T_3ca12_row4_col6, #T_3ca12_row4_col7, #T_3ca12_row5_col0, #T_3ca12_row5_col1, #T_3ca12_row5_col2, #T_3ca12_row5_col3, #T_3ca12_row5_col5, #T_3ca12_row5_col6, #T_3ca12_row5_col7, #T_3ca12_row6_col0, #T_3ca12_row6_col1, #T_3ca12_row6_col2, #T_3ca12_row6_col3, #T_3ca12_row6_col4, #T_3ca12_row6_col5, #T_3ca12_row6_col6, #T_3ca12_row6_col7, #T_3ca12_row7_col0, #T_3ca12_row7_col1, #T_3ca12_row7_col2, #T_3ca12_row7_col3, #T_3ca12_row7_col4, #T_3ca12_row7_col5, #T_3ca12_row7_col6, #T_3ca12_row7_col7, #T_3ca12_row8_col0, #T_3ca12_row8_col1, #T_3ca12_row8_col2, #T_3ca12_row8_col3, #T_3ca12_row8_col4, #T_3ca12_row8_col5, #T_3ca12_row8_col6, #T_3ca12_row8_col7, #T_3ca12_row9_col0, #T_3ca12_row9_col1, #T_3ca12_row9_col2, #T_3ca12_row9_col3, #T_3ca12_row9_col4, #T_3ca12_row9_col5, #T_3ca12_row9_col6, #T_3ca12_row9_col7, #T_3ca12_row10_col0, #T_3ca12_row10_col1, #T_3ca12_row10_col2, #T_3ca12_row10_col3, #T_3ca12_row10_col4, #T_3ca12_row10_col5, #T_3ca12_row10_col6, #T_3ca12_row10_col7, #T_3ca12_row11_col0, #T_3ca12_row11_col1, #T_3ca12_row11_col2, #T_3ca12_row11_col3, #T_3ca12_row11_col4, #T_3ca12_row11_col5, #T_3ca12_row11_col6, #T_3ca12_row11_col7, #T_3ca12_row12_col0, #T_3ca12_row12_col1, #T_3ca12_row12_col2, #T_3ca12_row12_col3, #T_3ca12_row12_col4, #T_3ca12_row12_col5, #T_3ca12_row12_col6, #T_3ca12_row12_col7, #T_3ca12_row13_col0, #T_3ca12_row13_col1, #T_3ca12_row13_col2, #T_3ca12_row13_col3, #T_3ca12_row13_col4, #T_3ca12_row13_col5, #T_3ca12_row13_col6, #T_3ca12_row13_col7, #T_3ca12_row14_col0, #T_3ca12_row14_col1, #T_3ca12_row14_col2, #T_3ca12_row14_col3, #T_3ca12_row14_col4, #T_3ca12_row14_col5, #T_3ca12_row14_col6, #T_3ca12_row14_col7 {\n",
              "  text-align: left;\n",
              "}\n",
              "#T_3ca12_row0_col1, #T_3ca12_row0_col3, #T_3ca12_row0_col5, #T_3ca12_row0_col6, #T_3ca12_row0_col7, #T_3ca12_row2_col2, #T_3ca12_row5_col4 {\n",
              "  text-align: left;\n",
              "  background-color: yellow;\n",
              "}\n",
              "#T_3ca12_row0_col8, #T_3ca12_row1_col8, #T_3ca12_row2_col8, #T_3ca12_row3_col8, #T_3ca12_row4_col8, #T_3ca12_row5_col8, #T_3ca12_row6_col8, #T_3ca12_row7_col8, #T_3ca12_row8_col8, #T_3ca12_row9_col8, #T_3ca12_row10_col8, #T_3ca12_row12_col8, #T_3ca12_row13_col8, #T_3ca12_row14_col8 {\n",
              "  text-align: left;\n",
              "  background-color: lightgrey;\n",
              "}\n",
              "#T_3ca12_row11_col8 {\n",
              "  text-align: left;\n",
              "  background-color: yellow;\n",
              "  background-color: lightgrey;\n",
              "}\n",
              "</style>\n",
              "<table id=\"T_3ca12\" class=\"dataframe\">\n",
              "  <thead>\n",
              "    <tr>\n",
              "      <th class=\"blank level0\" >&nbsp;</th>\n",
              "      <th id=\"T_3ca12_level0_col0\" class=\"col_heading level0 col0\" >Model</th>\n",
              "      <th id=\"T_3ca12_level0_col1\" class=\"col_heading level0 col1\" >Accuracy</th>\n",
              "      <th id=\"T_3ca12_level0_col2\" class=\"col_heading level0 col2\" >AUC</th>\n",
              "      <th id=\"T_3ca12_level0_col3\" class=\"col_heading level0 col3\" >Recall</th>\n",
              "      <th id=\"T_3ca12_level0_col4\" class=\"col_heading level0 col4\" >Prec.</th>\n",
              "      <th id=\"T_3ca12_level0_col5\" class=\"col_heading level0 col5\" >F1</th>\n",
              "      <th id=\"T_3ca12_level0_col6\" class=\"col_heading level0 col6\" >Kappa</th>\n",
              "      <th id=\"T_3ca12_level0_col7\" class=\"col_heading level0 col7\" >MCC</th>\n",
              "      <th id=\"T_3ca12_level0_col8\" class=\"col_heading level0 col8\" >TT (Sec)</th>\n",
              "    </tr>\n",
              "  </thead>\n",
              "  <tbody>\n",
              "    <tr>\n",
              "      <th id=\"T_3ca12_level0_row0\" class=\"row_heading level0 row0\" >gbc</th>\n",
              "      <td id=\"T_3ca12_row0_col0\" class=\"data row0 col0\" >Gradient Boosting Classifier</td>\n",
              "      <td id=\"T_3ca12_row0_col1\" class=\"data row0 col1\" >0.6970</td>\n",
              "      <td id=\"T_3ca12_row0_col2\" class=\"data row0 col2\" >0.7569</td>\n",
              "      <td id=\"T_3ca12_row0_col3\" class=\"data row0 col3\" >0.6970</td>\n",
              "      <td id=\"T_3ca12_row0_col4\" class=\"data row0 col4\" >0.8210</td>\n",
              "      <td id=\"T_3ca12_row0_col5\" class=\"data row0 col5\" >0.6927</td>\n",
              "      <td id=\"T_3ca12_row0_col6\" class=\"data row0 col6\" >0.4402</td>\n",
              "      <td id=\"T_3ca12_row0_col7\" class=\"data row0 col7\" >0.5223</td>\n",
              "      <td id=\"T_3ca12_row0_col8\" class=\"data row0 col8\" >2.2110</td>\n",
              "    </tr>\n",
              "    <tr>\n",
              "      <th id=\"T_3ca12_level0_row1\" class=\"row_heading level0 row1\" >ada</th>\n",
              "      <td id=\"T_3ca12_row1_col0\" class=\"data row1 col0\" >Ada Boost Classifier</td>\n",
              "      <td id=\"T_3ca12_row1_col1\" class=\"data row1 col1\" >0.6960</td>\n",
              "      <td id=\"T_3ca12_row1_col2\" class=\"data row1 col2\" >0.7553</td>\n",
              "      <td id=\"T_3ca12_row1_col3\" class=\"data row1 col3\" >0.6960</td>\n",
              "      <td id=\"T_3ca12_row1_col4\" class=\"data row1 col4\" >0.8185</td>\n",
              "      <td id=\"T_3ca12_row1_col5\" class=\"data row1 col5\" >0.6918</td>\n",
              "      <td id=\"T_3ca12_row1_col6\" class=\"data row1 col6\" >0.4379</td>\n",
              "      <td id=\"T_3ca12_row1_col7\" class=\"data row1 col7\" >0.5187</td>\n",
              "      <td id=\"T_3ca12_row1_col8\" class=\"data row1 col8\" >1.0340</td>\n",
              "    </tr>\n",
              "    <tr>\n",
              "      <th id=\"T_3ca12_level0_row2\" class=\"row_heading level0 row2\" >lr</th>\n",
              "      <td id=\"T_3ca12_row2_col0\" class=\"data row2 col0\" >Logistic Regression</td>\n",
              "      <td id=\"T_3ca12_row2_col1\" class=\"data row2 col1\" >0.6915</td>\n",
              "      <td id=\"T_3ca12_row2_col2\" class=\"data row2 col2\" >0.7572</td>\n",
              "      <td id=\"T_3ca12_row2_col3\" class=\"data row2 col3\" >0.6915</td>\n",
              "      <td id=\"T_3ca12_row2_col4\" class=\"data row2 col4\" >0.7812</td>\n",
              "      <td id=\"T_3ca12_row2_col5\" class=\"data row2 col5\" >0.6911</td>\n",
              "      <td id=\"T_3ca12_row2_col6\" class=\"data row2 col6\" >0.4187</td>\n",
              "      <td id=\"T_3ca12_row2_col7\" class=\"data row2 col7\" >0.4734</td>\n",
              "      <td id=\"T_3ca12_row2_col8\" class=\"data row2 col8\" >1.8860</td>\n",
              "    </tr>\n",
              "    <tr>\n",
              "      <th id=\"T_3ca12_level0_row3\" class=\"row_heading level0 row3\" >lightgbm</th>\n",
              "      <td id=\"T_3ca12_row3_col0\" class=\"data row3 col0\" >Light Gradient Boosting Machine</td>\n",
              "      <td id=\"T_3ca12_row3_col1\" class=\"data row3 col1\" >0.6890</td>\n",
              "      <td id=\"T_3ca12_row3_col2\" class=\"data row3 col2\" >0.7562</td>\n",
              "      <td id=\"T_3ca12_row3_col3\" class=\"data row3 col3\" >0.6890</td>\n",
              "      <td id=\"T_3ca12_row3_col4\" class=\"data row3 col4\" >0.7687</td>\n",
              "      <td id=\"T_3ca12_row3_col5\" class=\"data row3 col5\" >0.6898</td>\n",
              "      <td id=\"T_3ca12_row3_col6\" class=\"data row3 col6\" >0.4099</td>\n",
              "      <td id=\"T_3ca12_row3_col7\" class=\"data row3 col7\" >0.4566</td>\n",
              "      <td id=\"T_3ca12_row3_col8\" class=\"data row3 col8\" >1.4120</td>\n",
              "    </tr>\n",
              "    <tr>\n",
              "      <th id=\"T_3ca12_level0_row4\" class=\"row_heading level0 row4\" >xgboost</th>\n",
              "      <td id=\"T_3ca12_row4_col0\" class=\"data row4 col0\" >Extreme Gradient Boosting</td>\n",
              "      <td id=\"T_3ca12_row4_col1\" class=\"data row4 col1\" >0.6887</td>\n",
              "      <td id=\"T_3ca12_row4_col2\" class=\"data row4 col2\" >0.7561</td>\n",
              "      <td id=\"T_3ca12_row4_col3\" class=\"data row4 col3\" >0.6887</td>\n",
              "      <td id=\"T_3ca12_row4_col4\" class=\"data row4 col4\" >0.7638</td>\n",
              "      <td id=\"T_3ca12_row4_col5\" class=\"data row4 col5\" >0.6899</td>\n",
              "      <td id=\"T_3ca12_row4_col6\" class=\"data row4 col6\" >0.4071</td>\n",
              "      <td id=\"T_3ca12_row4_col7\" class=\"data row4 col7\" >0.4503</td>\n",
              "      <td id=\"T_3ca12_row4_col8\" class=\"data row4 col8\" >0.7430</td>\n",
              "    </tr>\n",
              "    <tr>\n",
              "      <th id=\"T_3ca12_level0_row5\" class=\"row_heading level0 row5\" >qda</th>\n",
              "      <td id=\"T_3ca12_row5_col0\" class=\"data row5 col0\" >Quadratic Discriminant Analysis</td>\n",
              "      <td id=\"T_3ca12_row5_col1\" class=\"data row5 col1\" >0.6856</td>\n",
              "      <td id=\"T_3ca12_row5_col2\" class=\"data row5 col2\" >0.7549</td>\n",
              "      <td id=\"T_3ca12_row5_col3\" class=\"data row5 col3\" >0.6856</td>\n",
              "      <td id=\"T_3ca12_row5_col4\" class=\"data row5 col4\" >0.8234</td>\n",
              "      <td id=\"T_3ca12_row5_col5\" class=\"data row5 col5\" >0.6790</td>\n",
              "      <td id=\"T_3ca12_row5_col6\" class=\"data row5 col6\" >0.4237</td>\n",
              "      <td id=\"T_3ca12_row5_col7\" class=\"data row5 col7\" >0.5144</td>\n",
              "      <td id=\"T_3ca12_row5_col8\" class=\"data row5 col8\" >0.7090</td>\n",
              "    </tr>\n",
              "    <tr>\n",
              "      <th id=\"T_3ca12_level0_row6\" class=\"row_heading level0 row6\" >dt</th>\n",
              "      <td id=\"T_3ca12_row6_col0\" class=\"data row6 col0\" >Decision Tree Classifier</td>\n",
              "      <td id=\"T_3ca12_row6_col1\" class=\"data row6 col1\" >0.6829</td>\n",
              "      <td id=\"T_3ca12_row6_col2\" class=\"data row6 col2\" >0.7374</td>\n",
              "      <td id=\"T_3ca12_row6_col3\" class=\"data row6 col3\" >0.6829</td>\n",
              "      <td id=\"T_3ca12_row6_col4\" class=\"data row6 col4\" >0.7299</td>\n",
              "      <td id=\"T_3ca12_row6_col5\" class=\"data row6 col5\" >0.6868</td>\n",
              "      <td id=\"T_3ca12_row6_col6\" class=\"data row6 col6\" >0.3799</td>\n",
              "      <td id=\"T_3ca12_row6_col7\" class=\"data row6 col7\" >0.4024</td>\n",
              "      <td id=\"T_3ca12_row6_col8\" class=\"data row6 col8\" >0.4850</td>\n",
              "    </tr>\n",
              "    <tr>\n",
              "      <th id=\"T_3ca12_level0_row7\" class=\"row_heading level0 row7\" >rf</th>\n",
              "      <td id=\"T_3ca12_row7_col0\" class=\"data row7 col0\" >Random Forest Classifier</td>\n",
              "      <td id=\"T_3ca12_row7_col1\" class=\"data row7 col1\" >0.6811</td>\n",
              "      <td id=\"T_3ca12_row7_col2\" class=\"data row7 col2\" >0.7554</td>\n",
              "      <td id=\"T_3ca12_row7_col3\" class=\"data row7 col3\" >0.6811</td>\n",
              "      <td id=\"T_3ca12_row7_col4\" class=\"data row7 col4\" >0.7202</td>\n",
              "      <td id=\"T_3ca12_row7_col5\" class=\"data row7 col5\" >0.6855</td>\n",
              "      <td id=\"T_3ca12_row7_col6\" class=\"data row7 col6\" >0.3705</td>\n",
              "      <td id=\"T_3ca12_row7_col7\" class=\"data row7 col7\" >0.3875</td>\n",
              "      <td id=\"T_3ca12_row7_col8\" class=\"data row7 col8\" >2.1710</td>\n",
              "    </tr>\n",
              "    <tr>\n",
              "      <th id=\"T_3ca12_level0_row8\" class=\"row_heading level0 row8\" >et</th>\n",
              "      <td id=\"T_3ca12_row8_col0\" class=\"data row8 col0\" >Extra Trees Classifier</td>\n",
              "      <td id=\"T_3ca12_row8_col1\" class=\"data row8 col1\" >0.6773</td>\n",
              "      <td id=\"T_3ca12_row8_col2\" class=\"data row8 col2\" >0.7348</td>\n",
              "      <td id=\"T_3ca12_row8_col3\" class=\"data row8 col3\" >0.6773</td>\n",
              "      <td id=\"T_3ca12_row8_col4\" class=\"data row8 col4\" >0.7247</td>\n",
              "      <td id=\"T_3ca12_row8_col5\" class=\"data row8 col5\" >0.6812</td>\n",
              "      <td id=\"T_3ca12_row8_col6\" class=\"data row8 col6\" >0.3693</td>\n",
              "      <td id=\"T_3ca12_row8_col7\" class=\"data row8 col7\" >0.3915</td>\n",
              "      <td id=\"T_3ca12_row8_col8\" class=\"data row8 col8\" >2.9170</td>\n",
              "    </tr>\n",
              "    <tr>\n",
              "      <th id=\"T_3ca12_level0_row9\" class=\"row_heading level0 row9\" >svm</th>\n",
              "      <td id=\"T_3ca12_row9_col0\" class=\"data row9 col0\" >SVM - Linear Kernel</td>\n",
              "      <td id=\"T_3ca12_row9_col1\" class=\"data row9 col1\" >0.6583</td>\n",
              "      <td id=\"T_3ca12_row9_col2\" class=\"data row9 col2\" >0.0000</td>\n",
              "      <td id=\"T_3ca12_row9_col3\" class=\"data row9 col3\" >0.6583</td>\n",
              "      <td id=\"T_3ca12_row9_col4\" class=\"data row9 col4\" >0.6511</td>\n",
              "      <td id=\"T_3ca12_row9_col5\" class=\"data row9 col5\" >0.5946</td>\n",
              "      <td id=\"T_3ca12_row9_col6\" class=\"data row9 col6\" >0.2313</td>\n",
              "      <td id=\"T_3ca12_row9_col7\" class=\"data row9 col7\" >0.2753</td>\n",
              "      <td id=\"T_3ca12_row9_col8\" class=\"data row9 col8\" >1.1630</td>\n",
              "    </tr>\n",
              "    <tr>\n",
              "      <th id=\"T_3ca12_level0_row10\" class=\"row_heading level0 row10\" >knn</th>\n",
              "      <td id=\"T_3ca12_row10_col0\" class=\"data row10 col0\" >K Neighbors Classifier</td>\n",
              "      <td id=\"T_3ca12_row10_col1\" class=\"data row10 col1\" >0.6540</td>\n",
              "      <td id=\"T_3ca12_row10_col2\" class=\"data row10 col2\" >0.7329</td>\n",
              "      <td id=\"T_3ca12_row10_col3\" class=\"data row10 col3\" >0.6540</td>\n",
              "      <td id=\"T_3ca12_row10_col4\" class=\"data row10 col4\" >0.6624</td>\n",
              "      <td id=\"T_3ca12_row10_col5\" class=\"data row10 col5\" >0.6569</td>\n",
              "      <td id=\"T_3ca12_row10_col6\" class=\"data row10 col6\" >0.2803</td>\n",
              "      <td id=\"T_3ca12_row10_col7\" class=\"data row10 col7\" >0.2815</td>\n",
              "      <td id=\"T_3ca12_row10_col8\" class=\"data row10 col8\" >1.2590</td>\n",
              "    </tr>\n",
              "    <tr>\n",
              "      <th id=\"T_3ca12_level0_row11\" class=\"row_heading level0 row11\" >dummy</th>\n",
              "      <td id=\"T_3ca12_row11_col0\" class=\"data row11 col0\" >Dummy Classifier</td>\n",
              "      <td id=\"T_3ca12_row11_col1\" class=\"data row11 col1\" >0.6211</td>\n",
              "      <td id=\"T_3ca12_row11_col2\" class=\"data row11 col2\" >0.5000</td>\n",
              "      <td id=\"T_3ca12_row11_col3\" class=\"data row11 col3\" >0.6211</td>\n",
              "      <td id=\"T_3ca12_row11_col4\" class=\"data row11 col4\" >0.3858</td>\n",
              "      <td id=\"T_3ca12_row11_col5\" class=\"data row11 col5\" >0.4759</td>\n",
              "      <td id=\"T_3ca12_row11_col6\" class=\"data row11 col6\" >0.0000</td>\n",
              "      <td id=\"T_3ca12_row11_col7\" class=\"data row11 col7\" >0.0000</td>\n",
              "      <td id=\"T_3ca12_row11_col8\" class=\"data row11 col8\" >0.4120</td>\n",
              "    </tr>\n",
              "    <tr>\n",
              "      <th id=\"T_3ca12_level0_row12\" class=\"row_heading level0 row12\" >ridge</th>\n",
              "      <td id=\"T_3ca12_row12_col0\" class=\"data row12 col0\" >Ridge Classifier</td>\n",
              "      <td id=\"T_3ca12_row12_col1\" class=\"data row12 col1\" >0.6209</td>\n",
              "      <td id=\"T_3ca12_row12_col2\" class=\"data row12 col2\" >0.0000</td>\n",
              "      <td id=\"T_3ca12_row12_col3\" class=\"data row12 col3\" >0.6209</td>\n",
              "      <td id=\"T_3ca12_row12_col4\" class=\"data row12 col4\" >0.4047</td>\n",
              "      <td id=\"T_3ca12_row12_col5\" class=\"data row12 col5\" >0.4759</td>\n",
              "      <td id=\"T_3ca12_row12_col6\" class=\"data row12 col6\" >-0.0004</td>\n",
              "      <td id=\"T_3ca12_row12_col7\" class=\"data row12 col7\" >-0.0063</td>\n",
              "      <td id=\"T_3ca12_row12_col8\" class=\"data row12 col8\" >0.4310</td>\n",
              "    </tr>\n",
              "    <tr>\n",
              "      <th id=\"T_3ca12_level0_row13\" class=\"row_heading level0 row13\" >lda</th>\n",
              "      <td id=\"T_3ca12_row13_col0\" class=\"data row13 col0\" >Linear Discriminant Analysis</td>\n",
              "      <td id=\"T_3ca12_row13_col1\" class=\"data row13 col1\" >0.6209</td>\n",
              "      <td id=\"T_3ca12_row13_col2\" class=\"data row13 col2\" >0.5706</td>\n",
              "      <td id=\"T_3ca12_row13_col3\" class=\"data row13 col3\" >0.6209</td>\n",
              "      <td id=\"T_3ca12_row13_col4\" class=\"data row13 col4\" >0.4426</td>\n",
              "      <td id=\"T_3ca12_row13_col5\" class=\"data row13 col5\" >0.4760</td>\n",
              "      <td id=\"T_3ca12_row13_col6\" class=\"data row13 col6\" >-0.0004</td>\n",
              "      <td id=\"T_3ca12_row13_col7\" class=\"data row13 col7\" >-0.0049</td>\n",
              "      <td id=\"T_3ca12_row13_col8\" class=\"data row13 col8\" >0.5940</td>\n",
              "    </tr>\n",
              "    <tr>\n",
              "      <th id=\"T_3ca12_level0_row14\" class=\"row_heading level0 row14\" >nb</th>\n",
              "      <td id=\"T_3ca12_row14_col0\" class=\"data row14 col0\" >Naive Bayes</td>\n",
              "      <td id=\"T_3ca12_row14_col1\" class=\"data row14 col1\" >0.6149</td>\n",
              "      <td id=\"T_3ca12_row14_col2\" class=\"data row14 col2\" >0.7472</td>\n",
              "      <td id=\"T_3ca12_row14_col3\" class=\"data row14 col3\" >0.6149</td>\n",
              "      <td id=\"T_3ca12_row14_col4\" class=\"data row14 col4\" >0.8091</td>\n",
              "      <td id=\"T_3ca12_row14_col5\" class=\"data row14 col5\" >0.5931</td>\n",
              "      <td id=\"T_3ca12_row14_col6\" class=\"data row14 col6\" >0.3172</td>\n",
              "      <td id=\"T_3ca12_row14_col7\" class=\"data row14 col7\" >0.4341</td>\n",
              "      <td id=\"T_3ca12_row14_col8\" class=\"data row14 col8\" >0.5550</td>\n",
              "    </tr>\n",
              "  </tbody>\n",
              "</table>\n"
            ]
          },
          "metadata": {}
        },
        {
          "output_type": "display_data",
          "data": {
            "text/plain": [
              "Processing:   0%|          | 0/65 [00:00<?, ?it/s]"
            ],
            "application/vnd.jupyter.widget-view+json": {
              "version_major": 2,
              "version_minor": 0,
              "model_id": "82c738f725b441419b94579e374a8640"
            }
          },
          "metadata": {
            "application/vnd.jupyter.widget-view+json": {
              "colab": {
                "custom_widget_manager": {
                  "url": "https://ssl.gstatic.com/colaboratory-static/widgets/colab-cdn-widget-manager/2b70e893a8ba7c0f/manager.min.js"
                }
              }
            }
          }
        },
        {
          "output_type": "display_data",
          "data": {
            "text/plain": [
              "<IPython.core.display.HTML object>"
            ],
            "text/html": []
          },
          "metadata": {}
        },
        {
          "output_type": "execute_result",
          "data": {
            "text/plain": [
              "GradientBoostingClassifier(ccp_alpha=0.0, criterion='friedman_mse', init=None,\n",
              "                           learning_rate=0.1, loss='log_loss', max_depth=3,\n",
              "                           max_features=None, max_leaf_nodes=None,\n",
              "                           min_impurity_decrease=0.0, min_samples_leaf=1,\n",
              "                           min_samples_split=2, min_weight_fraction_leaf=0.0,\n",
              "                           n_estimators=100, n_iter_no_change=None,\n",
              "                           random_state=4418, subsample=1.0, tol=0.0001,\n",
              "                           validation_fraction=0.1, verbose=0,\n",
              "                           warm_start=False)"
            ],
            "text/html": [
              "<style>#sk-container-id-2 {color: black;background-color: white;}#sk-container-id-2 pre{padding: 0;}#sk-container-id-2 div.sk-toggleable {background-color: white;}#sk-container-id-2 label.sk-toggleable__label {cursor: pointer;display: block;width: 100%;margin-bottom: 0;padding: 0.3em;box-sizing: border-box;text-align: center;}#sk-container-id-2 label.sk-toggleable__label-arrow:before {content: \"▸\";float: left;margin-right: 0.25em;color: #696969;}#sk-container-id-2 label.sk-toggleable__label-arrow:hover:before {color: black;}#sk-container-id-2 div.sk-estimator:hover label.sk-toggleable__label-arrow:before {color: black;}#sk-container-id-2 div.sk-toggleable__content {max-height: 0;max-width: 0;overflow: hidden;text-align: left;background-color: #f0f8ff;}#sk-container-id-2 div.sk-toggleable__content pre {margin: 0.2em;color: black;border-radius: 0.25em;background-color: #f0f8ff;}#sk-container-id-2 input.sk-toggleable__control:checked~div.sk-toggleable__content {max-height: 200px;max-width: 100%;overflow: auto;}#sk-container-id-2 input.sk-toggleable__control:checked~label.sk-toggleable__label-arrow:before {content: \"▾\";}#sk-container-id-2 div.sk-estimator input.sk-toggleable__control:checked~label.sk-toggleable__label {background-color: #d4ebff;}#sk-container-id-2 div.sk-label input.sk-toggleable__control:checked~label.sk-toggleable__label {background-color: #d4ebff;}#sk-container-id-2 input.sk-hidden--visually {border: 0;clip: rect(1px 1px 1px 1px);clip: rect(1px, 1px, 1px, 1px);height: 1px;margin: -1px;overflow: hidden;padding: 0;position: absolute;width: 1px;}#sk-container-id-2 div.sk-estimator {font-family: monospace;background-color: #f0f8ff;border: 1px dotted black;border-radius: 0.25em;box-sizing: border-box;margin-bottom: 0.5em;}#sk-container-id-2 div.sk-estimator:hover {background-color: #d4ebff;}#sk-container-id-2 div.sk-parallel-item::after {content: \"\";width: 100%;border-bottom: 1px solid gray;flex-grow: 1;}#sk-container-id-2 div.sk-label:hover label.sk-toggleable__label {background-color: #d4ebff;}#sk-container-id-2 div.sk-serial::before {content: \"\";position: absolute;border-left: 1px solid gray;box-sizing: border-box;top: 0;bottom: 0;left: 50%;z-index: 0;}#sk-container-id-2 div.sk-serial {display: flex;flex-direction: column;align-items: center;background-color: white;padding-right: 0.2em;padding-left: 0.2em;position: relative;}#sk-container-id-2 div.sk-item {position: relative;z-index: 1;}#sk-container-id-2 div.sk-parallel {display: flex;align-items: stretch;justify-content: center;background-color: white;position: relative;}#sk-container-id-2 div.sk-item::before, #sk-container-id-2 div.sk-parallel-item::before {content: \"\";position: absolute;border-left: 1px solid gray;box-sizing: border-box;top: 0;bottom: 0;left: 50%;z-index: -1;}#sk-container-id-2 div.sk-parallel-item {display: flex;flex-direction: column;z-index: 1;position: relative;background-color: white;}#sk-container-id-2 div.sk-parallel-item:first-child::after {align-self: flex-end;width: 50%;}#sk-container-id-2 div.sk-parallel-item:last-child::after {align-self: flex-start;width: 50%;}#sk-container-id-2 div.sk-parallel-item:only-child::after {width: 0;}#sk-container-id-2 div.sk-dashed-wrapped {border: 1px dashed gray;margin: 0 0.4em 0.5em 0.4em;box-sizing: border-box;padding-bottom: 0.4em;background-color: white;}#sk-container-id-2 div.sk-label label {font-family: monospace;font-weight: bold;display: inline-block;line-height: 1.2em;}#sk-container-id-2 div.sk-label-container {text-align: center;}#sk-container-id-2 div.sk-container {/* jupyter's `normalize.less` sets `[hidden] { display: none; }` but bootstrap.min.css set `[hidden] { display: none !important; }` so we also need the `!important` here to be able to override the default hidden behavior on the sphinx rendered scikit-learn.org. See: https://github.com/scikit-learn/scikit-learn/issues/21755 */display: inline-block !important;position: relative;}#sk-container-id-2 div.sk-text-repr-fallback {display: none;}</style><div id=\"sk-container-id-2\" class=\"sk-top-container\"><div class=\"sk-text-repr-fallback\"><pre>GradientBoostingClassifier(ccp_alpha=0.0, criterion=&#x27;friedman_mse&#x27;, init=None,\n",
              "                           learning_rate=0.1, loss=&#x27;log_loss&#x27;, max_depth=3,\n",
              "                           max_features=None, max_leaf_nodes=None,\n",
              "                           min_impurity_decrease=0.0, min_samples_leaf=1,\n",
              "                           min_samples_split=2, min_weight_fraction_leaf=0.0,\n",
              "                           n_estimators=100, n_iter_no_change=None,\n",
              "                           random_state=4418, subsample=1.0, tol=0.0001,\n",
              "                           validation_fraction=0.1, verbose=0,\n",
              "                           warm_start=False)</pre><b>In a Jupyter environment, please rerun this cell to show the HTML representation or trust the notebook. <br />On GitHub, the HTML representation is unable to render, please try loading this page with nbviewer.org.</b></div><div class=\"sk-container\" hidden><div class=\"sk-item\"><div class=\"sk-estimator sk-toggleable\"><input class=\"sk-toggleable__control sk-hidden--visually\" id=\"sk-estimator-id-2\" type=\"checkbox\" checked><label for=\"sk-estimator-id-2\" class=\"sk-toggleable__label sk-toggleable__label-arrow\">GradientBoostingClassifier</label><div class=\"sk-toggleable__content\"><pre>GradientBoostingClassifier(ccp_alpha=0.0, criterion=&#x27;friedman_mse&#x27;, init=None,\n",
              "                           learning_rate=0.1, loss=&#x27;log_loss&#x27;, max_depth=3,\n",
              "                           max_features=None, max_leaf_nodes=None,\n",
              "                           min_impurity_decrease=0.0, min_samples_leaf=1,\n",
              "                           min_samples_split=2, min_weight_fraction_leaf=0.0,\n",
              "                           n_estimators=100, n_iter_no_change=None,\n",
              "                           random_state=4418, subsample=1.0, tol=0.0001,\n",
              "                           validation_fraction=0.1, verbose=0,\n",
              "                           warm_start=False)</pre></div></div></div></div></div>"
            ]
          },
          "metadata": {},
          "execution_count": 39
        }
      ],
      "source": [
        "# Invoking ML algorithms\n",
        "compare_models()"
      ]
    },
    {
      "cell_type": "code",
      "source": [
        "#Using the best performing model\n",
        "model = create_model('gbc')"
      ],
      "metadata": {
        "id": "3XYHVWyZSojl"
      },
      "execution_count": null,
      "outputs": []
    },
    {
      "cell_type": "code",
      "source": [
        "# Importing the client dataset\n",
        "client_data = pandas.read_csv('https://docs.google.com/spreadsheets/d/e/2PACX-1vQfRxnJl2drvo5fEUs8toEpIiniUlvr91eVYumIkCOKTewYMQ8f2WFY6XzKZyad51fOPZpxPcu9AOhf/pub?gid=420791075&single=true&output=csv')\n",
        "client_data.shape"
      ],
      "metadata": {
        "id": "VFRfQsFiSowU",
        "colab": {
          "base_uri": "https://localhost:8080/"
        },
        "outputId": "db99be70-1f60-4c45-c2ab-8e7f6a85e7c1"
      },
      "execution_count": 34,
      "outputs": [
        {
          "output_type": "execute_result",
          "data": {
            "text/plain": [
              "(6270, 22)"
            ]
          },
          "metadata": {},
          "execution_count": 34
        }
      ]
    },
    {
      "cell_type": "code",
      "source": [
        "# Predicting standard scores using the best model\n",
        "client_data = client_data.applymap(convert_currency_to_int)\n",
        "client_data_predictions = predict_model(model, client_data)"
      ],
      "metadata": {
        "id": "zDB8TAPMSo0w",
        "colab": {
          "base_uri": "https://localhost:8080/",
          "height": 17
        },
        "outputId": "bd240cf2-a765-493e-8ced-7aa03690a1a1"
      },
      "execution_count": 35,
      "outputs": [
        {
          "output_type": "display_data",
          "data": {
            "text/plain": [
              "<IPython.core.display.HTML object>"
            ],
            "text/html": []
          },
          "metadata": {}
        }
      ]
    },
    {
      "cell_type": "code",
      "source": [
        "client_data_predictions"
      ],
      "metadata": {
        "id": "_8a64xXSSxs1"
      },
      "execution_count": null,
      "outputs": []
    },
    {
      "cell_type": "code",
      "source": [
        "client_data_predictions.to_csv(\"Red Cross -ML Algo.csv\")"
      ],
      "metadata": {
        "id": "npStB8BfkhUI"
      },
      "execution_count": 37,
      "outputs": []
    }
  ],
  "metadata": {
    "colab": {
      "provenance": []
    },
    "kernelspec": {
      "display_name": "Python 3",
      "name": "python3"
    },
    "language_info": {
      "name": "python"
    },
    "widgets": {
      "application/vnd.jupyter.widget-state+json": {
        "82c738f725b441419b94579e374a8640": {
          "model_module": "@jupyter-widgets/controls",
          "model_name": "HBoxModel",
          "model_module_version": "1.5.0",
          "state": {
            "_dom_classes": [],
            "_model_module": "@jupyter-widgets/controls",
            "_model_module_version": "1.5.0",
            "_model_name": "HBoxModel",
            "_view_count": null,
            "_view_module": "@jupyter-widgets/controls",
            "_view_module_version": "1.5.0",
            "_view_name": "HBoxView",
            "box_style": "",
            "children": [
              "IPY_MODEL_8dd1a45e91fc4b25ba539be8a493a64b",
              "IPY_MODEL_d96f3db244104a66b1f0034239d1c9e3",
              "IPY_MODEL_0603b15a250948559f02aecf0d4d4e38"
            ],
            "layout": "IPY_MODEL_82173cbef1404b9981c0aba85534c3d8"
          }
        },
        "8dd1a45e91fc4b25ba539be8a493a64b": {
          "model_module": "@jupyter-widgets/controls",
          "model_name": "HTMLModel",
          "model_module_version": "1.5.0",
          "state": {
            "_dom_classes": [],
            "_model_module": "@jupyter-widgets/controls",
            "_model_module_version": "1.5.0",
            "_model_name": "HTMLModel",
            "_view_count": null,
            "_view_module": "@jupyter-widgets/controls",
            "_view_module_version": "1.5.0",
            "_view_name": "HTMLView",
            "description": "",
            "description_tooltip": null,
            "layout": "IPY_MODEL_2d859f6fce3747848d7676b89fb18fb5",
            "placeholder": "​",
            "style": "IPY_MODEL_d073474e34584ae3a0771aae2a933502",
            "value": "Processing: 100%"
          }
        },
        "d96f3db244104a66b1f0034239d1c9e3": {
          "model_module": "@jupyter-widgets/controls",
          "model_name": "FloatProgressModel",
          "model_module_version": "1.5.0",
          "state": {
            "_dom_classes": [],
            "_model_module": "@jupyter-widgets/controls",
            "_model_module_version": "1.5.0",
            "_model_name": "FloatProgressModel",
            "_view_count": null,
            "_view_module": "@jupyter-widgets/controls",
            "_view_module_version": "1.5.0",
            "_view_name": "ProgressView",
            "bar_style": "",
            "description": "",
            "description_tooltip": null,
            "layout": "IPY_MODEL_116c845628784c9f9d1b90aa16adea8b",
            "max": 65,
            "min": 0,
            "orientation": "horizontal",
            "style": "IPY_MODEL_59af19096a794b2ebd92f8f2ab3e3dc2",
            "value": 65
          }
        },
        "0603b15a250948559f02aecf0d4d4e38": {
          "model_module": "@jupyter-widgets/controls",
          "model_name": "HTMLModel",
          "model_module_version": "1.5.0",
          "state": {
            "_dom_classes": [],
            "_model_module": "@jupyter-widgets/controls",
            "_model_module_version": "1.5.0",
            "_model_name": "HTMLModel",
            "_view_count": null,
            "_view_module": "@jupyter-widgets/controls",
            "_view_module_version": "1.5.0",
            "_view_name": "HTMLView",
            "description": "",
            "description_tooltip": null,
            "layout": "IPY_MODEL_6d6db7a971c54e5d8ee32d5b9ce5fa24",
            "placeholder": "​",
            "style": "IPY_MODEL_317fa9fac0644f7ab731676aa2e2635f",
            "value": " 65/65 [03:09&lt;00:00,  1.80s/it]"
          }
        },
        "82173cbef1404b9981c0aba85534c3d8": {
          "model_module": "@jupyter-widgets/base",
          "model_name": "LayoutModel",
          "model_module_version": "1.2.0",
          "state": {
            "_model_module": "@jupyter-widgets/base",
            "_model_module_version": "1.2.0",
            "_model_name": "LayoutModel",
            "_view_count": null,
            "_view_module": "@jupyter-widgets/base",
            "_view_module_version": "1.2.0",
            "_view_name": "LayoutView",
            "align_content": null,
            "align_items": null,
            "align_self": null,
            "border": null,
            "bottom": null,
            "display": null,
            "flex": null,
            "flex_flow": null,
            "grid_area": null,
            "grid_auto_columns": null,
            "grid_auto_flow": null,
            "grid_auto_rows": null,
            "grid_column": null,
            "grid_gap": null,
            "grid_row": null,
            "grid_template_areas": null,
            "grid_template_columns": null,
            "grid_template_rows": null,
            "height": null,
            "justify_content": null,
            "justify_items": null,
            "left": null,
            "margin": null,
            "max_height": null,
            "max_width": null,
            "min_height": null,
            "min_width": null,
            "object_fit": null,
            "object_position": null,
            "order": null,
            "overflow": null,
            "overflow_x": null,
            "overflow_y": null,
            "padding": null,
            "right": null,
            "top": null,
            "visibility": "hidden",
            "width": null
          }
        },
        "2d859f6fce3747848d7676b89fb18fb5": {
          "model_module": "@jupyter-widgets/base",
          "model_name": "LayoutModel",
          "model_module_version": "1.2.0",
          "state": {
            "_model_module": "@jupyter-widgets/base",
            "_model_module_version": "1.2.0",
            "_model_name": "LayoutModel",
            "_view_count": null,
            "_view_module": "@jupyter-widgets/base",
            "_view_module_version": "1.2.0",
            "_view_name": "LayoutView",
            "align_content": null,
            "align_items": null,
            "align_self": null,
            "border": null,
            "bottom": null,
            "display": null,
            "flex": null,
            "flex_flow": null,
            "grid_area": null,
            "grid_auto_columns": null,
            "grid_auto_flow": null,
            "grid_auto_rows": null,
            "grid_column": null,
            "grid_gap": null,
            "grid_row": null,
            "grid_template_areas": null,
            "grid_template_columns": null,
            "grid_template_rows": null,
            "height": null,
            "justify_content": null,
            "justify_items": null,
            "left": null,
            "margin": null,
            "max_height": null,
            "max_width": null,
            "min_height": null,
            "min_width": null,
            "object_fit": null,
            "object_position": null,
            "order": null,
            "overflow": null,
            "overflow_x": null,
            "overflow_y": null,
            "padding": null,
            "right": null,
            "top": null,
            "visibility": null,
            "width": null
          }
        },
        "d073474e34584ae3a0771aae2a933502": {
          "model_module": "@jupyter-widgets/controls",
          "model_name": "DescriptionStyleModel",
          "model_module_version": "1.5.0",
          "state": {
            "_model_module": "@jupyter-widgets/controls",
            "_model_module_version": "1.5.0",
            "_model_name": "DescriptionStyleModel",
            "_view_count": null,
            "_view_module": "@jupyter-widgets/base",
            "_view_module_version": "1.2.0",
            "_view_name": "StyleView",
            "description_width": ""
          }
        },
        "116c845628784c9f9d1b90aa16adea8b": {
          "model_module": "@jupyter-widgets/base",
          "model_name": "LayoutModel",
          "model_module_version": "1.2.0",
          "state": {
            "_model_module": "@jupyter-widgets/base",
            "_model_module_version": "1.2.0",
            "_model_name": "LayoutModel",
            "_view_count": null,
            "_view_module": "@jupyter-widgets/base",
            "_view_module_version": "1.2.0",
            "_view_name": "LayoutView",
            "align_content": null,
            "align_items": null,
            "align_self": null,
            "border": null,
            "bottom": null,
            "display": null,
            "flex": null,
            "flex_flow": null,
            "grid_area": null,
            "grid_auto_columns": null,
            "grid_auto_flow": null,
            "grid_auto_rows": null,
            "grid_column": null,
            "grid_gap": null,
            "grid_row": null,
            "grid_template_areas": null,
            "grid_template_columns": null,
            "grid_template_rows": null,
            "height": null,
            "justify_content": null,
            "justify_items": null,
            "left": null,
            "margin": null,
            "max_height": null,
            "max_width": null,
            "min_height": null,
            "min_width": null,
            "object_fit": null,
            "object_position": null,
            "order": null,
            "overflow": null,
            "overflow_x": null,
            "overflow_y": null,
            "padding": null,
            "right": null,
            "top": null,
            "visibility": null,
            "width": null
          }
        },
        "59af19096a794b2ebd92f8f2ab3e3dc2": {
          "model_module": "@jupyter-widgets/controls",
          "model_name": "ProgressStyleModel",
          "model_module_version": "1.5.0",
          "state": {
            "_model_module": "@jupyter-widgets/controls",
            "_model_module_version": "1.5.0",
            "_model_name": "ProgressStyleModel",
            "_view_count": null,
            "_view_module": "@jupyter-widgets/base",
            "_view_module_version": "1.2.0",
            "_view_name": "StyleView",
            "bar_color": null,
            "description_width": ""
          }
        },
        "6d6db7a971c54e5d8ee32d5b9ce5fa24": {
          "model_module": "@jupyter-widgets/base",
          "model_name": "LayoutModel",
          "model_module_version": "1.2.0",
          "state": {
            "_model_module": "@jupyter-widgets/base",
            "_model_module_version": "1.2.0",
            "_model_name": "LayoutModel",
            "_view_count": null,
            "_view_module": "@jupyter-widgets/base",
            "_view_module_version": "1.2.0",
            "_view_name": "LayoutView",
            "align_content": null,
            "align_items": null,
            "align_self": null,
            "border": null,
            "bottom": null,
            "display": null,
            "flex": null,
            "flex_flow": null,
            "grid_area": null,
            "grid_auto_columns": null,
            "grid_auto_flow": null,
            "grid_auto_rows": null,
            "grid_column": null,
            "grid_gap": null,
            "grid_row": null,
            "grid_template_areas": null,
            "grid_template_columns": null,
            "grid_template_rows": null,
            "height": null,
            "justify_content": null,
            "justify_items": null,
            "left": null,
            "margin": null,
            "max_height": null,
            "max_width": null,
            "min_height": null,
            "min_width": null,
            "object_fit": null,
            "object_position": null,
            "order": null,
            "overflow": null,
            "overflow_x": null,
            "overflow_y": null,
            "padding": null,
            "right": null,
            "top": null,
            "visibility": null,
            "width": null
          }
        },
        "317fa9fac0644f7ab731676aa2e2635f": {
          "model_module": "@jupyter-widgets/controls",
          "model_name": "DescriptionStyleModel",
          "model_module_version": "1.5.0",
          "state": {
            "_model_module": "@jupyter-widgets/controls",
            "_model_module_version": "1.5.0",
            "_model_name": "DescriptionStyleModel",
            "_view_count": null,
            "_view_module": "@jupyter-widgets/base",
            "_view_module_version": "1.2.0",
            "_view_name": "StyleView",
            "description_width": ""
          }
        }
      }
    }
  },
  "nbformat": 4,
  "nbformat_minor": 0
}