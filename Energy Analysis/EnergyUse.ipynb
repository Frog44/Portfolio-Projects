{
  "nbformat": 4,
  "nbformat_minor": 0,
  "metadata": {
    "colab": {
      "provenance": [],
      "authorship_tag": "ABX9TyPNAm7UCnQncRA0fIv0uMzf",
      "include_colab_link": true
    },
    "kernelspec": {
      "name": "python3",
      "display_name": "Python 3"
    },
    "language_info": {
      "name": "python"
    }
  },
  "cells": [
    {
      "cell_type": "markdown",
      "metadata": {
        "id": "view-in-github",
        "colab_type": "text"
      },
      "source": [
        "<a href=\"https://colab.research.google.com/github/Frog44/Portfolio-Projects/blob/main/Energy%20Analysis/EnergyUse.ipynb\" target=\"_parent\"><img src=\"https://colab.research.google.com/assets/colab-badge.svg\" alt=\"Open In Colab\"/></a>"
      ]
    },
    {
      "cell_type": "code",
      "source": [
        "import pandas as pd\n",
        "import plotly.graph_objects as go\n",
        "from sklearn.model_selection import train_test_split\n",
        "from sklearn.metrics import mean_squared_error\n",
        "from sklearn.linear_model import LinearRegression\n",
        "from sklearn.ensemble import RandomForestRegressor\n",
        "from sklearn.neighbors import KNeighborsRegressor\n",
        "from sklearn.svm import SVR\n",
        "from sklearn.neural_network import MLPRegressor\n",
        "import numpy as np\n",
        "\n",
        "# Load the CSV file\n",
        "df = pd.read_csv('per-capita-energy-use.csv')\n",
        "\n",
        "# Group by country and sum the energy use for each year\n",
        "df_country = df.groupby(['Country', 'Year']).sum().reset_index()\n",
        "\n",
        "# Group by continent and sum the energy use for each year\n",
        "df_continent = df.groupby(['Continent', 'Year']).sum().reset_index()\n",
        "\n",
        "# Get unique countries and continents\n",
        "countries = df_country['Country'].unique()\n",
        "continents = df_continent['Continent'].unique()\n",
        "\n",
        "# Create traces for each country\n",
        "traces_country = []\n",
        "for country in countries:\n",
        "    trace = go.Scatter(x=df_country[df_country['Country'] == country]['Year'],\n",
        "                       y=df_country[df_country['Country'] == country]['Primary energy consumption per capita (kWh/person)'],\n",
        "                       mode='lines',\n",
        "                       name=country,\n",
        "                       visible='legendonly')  # Initially set to not visible\n",
        "    traces_country.append(trace)\n",
        "\n",
        "# Create traces for each continent\n",
        "traces_continent = []\n",
        "for continent in continents:\n",
        "    trace = go.Scatter(x=df_continent[df_continent['Continent'] == continent]['Year'],\n",
        "                       y=df_continent[df_continent['Continent'] == continent]['Primary energy consumption per capita (kWh/person)'],\n",
        "                       mode='lines',\n",
        "                       name=continent,\n",
        "                       visible='legendonly')  # Initially set to not visible\n",
        "    traces_continent.append(trace)\n",
        "\n",
        "# Create layout for the plot\n",
        "layout_country = dict(title='Energy Use by Country',\n",
        "                      xaxis=dict(title='Year'),\n",
        "                      yaxis=dict(title='Primary energy consumption per capita (kWh/person)'),\n",
        "                      updatemenus=[{'active': -1,\n",
        "                                    'buttons': [{'label': 'Show All',\n",
        "                                                 'method': 'update',\n",
        "                                                 'args': [{'visible': True},\n",
        "                                                          {'title': 'Energy Use by Country'}]},\n",
        "                                                {'label': 'Hide All',\n",
        "                                                 'method': 'update',\n",
        "                                                 'args': [{'visible': 'legendonly'},\n",
        "                                                          {'title': 'Energy Use by Country'}]}]}])\n",
        "\n",
        "layout_continent = dict(title='Energy Use by Continent',\n",
        "                        xaxis=dict(title='Year'),\n",
        "                        yaxis=dict(title='Primary energy consumption per capita (kWh/person'),\n",
        "                        updatemenus=[{'active': -1,\n",
        "                                      'buttons': [{'label': 'Show All',\n",
        "                                                   'method': 'update',\n",
        "                                                   'args': [{'visible': True},\n",
        "                                                            {'title': 'Energy Use by Continent'}]},\n",
        "                                                  {'label': 'Hide All',\n",
        "                                                   'method': 'update',\n",
        "                                                   'args': [{'visible': 'legendonly'},\n",
        "                                                            {'title': 'Energy Use by Continent'}]}]}])\n",
        "\n",
        "# Create figure for the plot with checkboxes\n",
        "fig_country = go.Figure(data=traces_country, layout=layout_country)\n",
        "fig_continent = go.Figure(data=traces_continent, layout=layout_continent)\n",
        "\n",
        "# Display the plot\n",
        "fig_country.show()\n",
        "fig_continent.show()"
      ],
      "metadata": {
        "id": "aWxuMcD-fV8I"
      },
      "execution_count": null,
      "outputs": []
    }
  ]
}